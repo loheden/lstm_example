{
 "cells": [
  {
   "cell_type": "code",
   "execution_count": 1,
   "metadata": {},
   "outputs": [
    {
     "name": "stderr",
     "output_type": "stream",
     "text": [
      "/home/cesncn/anaconda3/envs/tensorflow/lib/python3.6/site-packages/h5py/__init__.py:36: FutureWarning: Conversion of the second argument of issubdtype from `float` to `np.floating` is deprecated. In future, it will be treated as `np.float64 == np.dtype(float).type`.\n",
      "  from ._conv import register_converters as _register_converters\n"
     ]
    }
   ],
   "source": [
    "import tensorflow as tf\n",
    "import numpy as np"
   ]
  },
  {
   "cell_type": "code",
   "execution_count": null,
   "metadata": {},
   "outputs": [],
   "source": [
    "train_path1 = 'train1_short.csv'\n",
    "TRAIN_INPUT_PATHS = [train_path1]\n",
    "\n",
    "RECORD_DEFAULTS_TRAIN = [[0], [0.0], [0.0], [0.0], [0.0], [0.0] [0.0]]\n",
    "\n",
    "def decode_csv(line):\n",
    "   parsed_line = tf.decode_csv(line, RECORD_DEFAULTS_TRAIN)\n",
    "   label =  parsed_line[-1]      # label is the last element of the list\n",
    "   del parsed_line[-1]           # delete the last element from the list\n",
    "   del parsed_line[0]            # even delete the first element bcz it is assumed NOT to be a feature\n",
    "   features = tf.stack(parsed_line)  # Stack features so that you can later vectorize forward prop., etc.\n",
    "   #label = tf.stack(label)          #NOT needed. Only if more than 1 column makes the label...\n",
    "   batch_to_return = features, label\n",
    "   return batch_to_return"
   ]
  }
 ],
 "metadata": {
  "kernelspec": {
   "display_name": "Python [conda env:tensorflow]",
   "language": "python",
   "name": "conda-env-tensorflow-py"
  },
  "language_info": {
   "codemirror_mode": {
    "name": "ipython",
    "version": 3
   },
   "file_extension": ".py",
   "mimetype": "text/x-python",
   "name": "python",
   "nbconvert_exporter": "python",
   "pygments_lexer": "ipython3",
   "version": "3.6.5"
  }
 },
 "nbformat": 4,
 "nbformat_minor": 2
}
